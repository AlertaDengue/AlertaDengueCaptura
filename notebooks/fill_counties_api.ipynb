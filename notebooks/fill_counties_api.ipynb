{
 "cells": [
  {
   "cell_type": "code",
   "execution_count": 1,
   "id": "chemical-turkish",
   "metadata": {},
   "outputs": [],
   "source": [
    "import requests\n",
    "import time\n",
    "import geojson\n",
    "import csv\n",
    "import functools\n",
    "import os\n",
    "import warnings\n",
    "from multiprocessing.pool import Pool\n",
    "from os.path import abspath, dirname\n",
    "from os.path import join as join_path\n"
   ]
  },
  {
   "cell_type": "raw",
   "id": "international-limit",
   "metadata": {},
   "source": [
    "### After the capture from br-atlas  of the json files to the geos directory / these geocodes are not found in the geojson\n",
    "##  https://github.com/carolinabigonha/br-atlas\n",
    "\n",
    "1504752 is not in this geojson: pa.\n",
    "4220000 is not in this geojson: sc.\n",
    "4212650 is not in this geojson: sc.\n",
    "4314548 is not in this geojson: rs.\n",
    "5006275 is not in this geojson: ms."
   ]
  },
  {
   "cell_type": "code",
   "execution_count": 2,
   "id": "attractive-profit",
   "metadata": {},
   "outputs": [],
   "source": [
    "initials = {\n",
    "    \"Rondônia\": \"ro\",\n",
    "    \"Pará\": \"pa\",\n",
    "    \"Amapá\": \"ap\",\n",
    "    \"Tocantins\": \"to\",\n",
    "    \"Maranhão\": \"ma\",\n",
    "    \"Piauí\": \"pi\",\n",
    "    \"Rio Grande do Norte\": \"rn\",\n",
    "    \"Paraíba\": \"pb\",\n",
    "    \"Alagoas\": \"al\",\n",
    "    \"Sergipe\": \"se\",\n",
    "    \"Bahia\": \"ba\",\n",
    "    \"Minas Gerais\": \"mg\",\n",
    "    \"São Paulo\": \"sp\",\n",
    "    \"Paraná\": \"pr\",\n",
    "    \"Santa Catarina\": \"sc\",\n",
    "    \"Rio Grande do Sul\": \"rs\",\n",
    "    \"Mato Grosso do Sul\": \"ms\",\n",
    "    \"Mato Grosso\": \"mt\",\n",
    "    \"Goiás\": \"go\",\n",
    "    \"Distrito Federal\": \"df\",\n",
    "    \"Acre\": \"ac\",\n",
    "    \"Amazonas\": \"am\",\n",
    "    \"Roraima\": \"rr\",\n",
    "    \"Ceará\": \"ce\",\n",
    "    \"Pernambuco\": \"pe\",\n",
    "    \"Espírito Santo\": \"es\",\n",
    "    \"Rio de Janeiro\": \"rj\",\n",
    "}"
   ]
  },
  {
   "cell_type": "code",
   "execution_count": 8,
   "id": "enhanced-angola",
   "metadata": {},
   "outputs": [],
   "source": [
    "import os\n",
    "\n",
    "import psycopg2\n",
    "from dotenv import load_dotenv\n",
    "\n",
    "load_dotenv()\n",
    "\n",
    "db_config = {\n",
    "    \"database\": os.getenv(\"PSQL_DB\"),\n",
    "    \"user\": os.getenv(\"PSQL_USER\"),\n",
    "    \"password\": os.getenv(\"PSQL_PASSWORD\"),\n",
    "    \"host\": os.getenv(\"PSQL_HOST\"),\n",
    "    \"port\": os.getenv(\"PSQL_PORT\"),\n",
    "}\n",
    "\n",
    "def save(data, schema=\"Dengue_global\", table=\"Municipio\"):\n",
    "    with psycopg2.connect(**db_config) as conn:\n",
    "        with conn.cursor() as cur:\n",
    "            for city in data:\n",
    "                sql = f'''SELECT COUNT(geocodigo) FROM \"{schema}\".\"{table}\" WHERE geocodigo={city['county_code']};'''\n",
    "\n",
    "                cur.execute(sql)\n",
    "                result = cur.fetchone()\n",
    "\n",
    "                if len(result) and result[0] == 1:\n",
    "                    # county_code is stored in the table\n",
    "                    sql = f'''\n",
    "                        UPDATE \"{schema}\".\"{table}\"\n",
    "                        SET\n",
    "                            nome='{city[\"name\"].replace(\"'\", \"''\")}',\n",
    "                            geojson='{city[\"geojson\"].replace(\"'\", \"''\")}',\n",
    "                            populacao={city[\"population\"]},\n",
    "                            uf='{city[\"uf\"]}'\n",
    "                        WHERE\n",
    "                            geocodigo={city['county_code']}\n",
    "                    '''\n",
    "                    cur.execute(sql)\n",
    "                else:\n",
    "                    sql = f'''\n",
    "                        INSERT INTO \"{schema}\".\"{table}\"\n",
    "                        (nome, geocodigo, geojson, populacao, uf)\n",
    "                        VALUES(\n",
    "                            '{city[\"name\"].replace(\"'\", \"''\")}',\n",
    "                            '{city[\"geocodigo\"]}',\n",
    "                            '{city[\"geojson\"].replace(\"'\", \"''\")}',\n",
    "                            {city[\"population\"]},\n",
    "                            '{city[\"uf\"]}'\n",
    "                        )'''\n",
    "\n",
    "                    cur.execute(sql)\n"
   ]
  },
  {
   "cell_type": "code",
   "execution_count": 9,
   "id": "reflected-amount",
   "metadata": {},
   "outputs": [
    {
     "data": {
      "text/plain": [
       "'https://servicodados.ibge.gov.br/api/v3/malhas/municipios/3304557?formato=application/vnd.geo+json'"
      ]
     },
     "execution_count": 9,
     "metadata": {},
     "output_type": "execute_result"
    }
   ],
   "source": [
    "def get_api(geocodigo):\n",
    "    return f'https://servicodados.ibge.gov.br/api/v3/malhas/municipios/{geocodigo}?formato=application/vnd.geo+json'"
   ]
  },
  {
   "cell_type": "code",
   "execution_count": 10,
   "id": "atomic-armor",
   "metadata": {},
   "outputs": [],
   "source": [
    "def read_json(geocodigo):\n",
    "    url = get_api(geocodigo)\n",
    "    status = 0\n",
    "    wait = 3\n",
    "    while status != 200 and wait <= 16:\n",
    "        resp = requests.get(url)\n",
    "        status = resp.status_code\n",
    "        time.sleep(wait)\n",
    "        wait *= 3\n",
    "    resp_data = resp.json()\n",
    "#     print(resp_data)\n",
    "    return resp_data"
   ]
  },
  {
   "cell_type": "code",
   "execution_count": 11,
   "id": "strong-champagne",
   "metadata": {},
   "outputs": [],
   "source": [
    "def county_polygon(county_code):\n",
    "    for feature in read_json(county_code)['features']:\n",
    "        if feature[\"properties\"].get(\"codarea\") == county_code:\n",
    "            return geojson.dumps(feature['geometry'])\n",
    "    warnings.warn(\"is not in this geojson: {}.\".format(county_code))\n",
    "    return "
   ]
  },
  {
   "cell_type": "code",
   "execution_count": 12,
   "id": "registered-profile",
   "metadata": {},
   "outputs": [],
   "source": [
    "def to_row(county):\n",
    "    county_code = county[\"Cod Municipio Completo\"]\n",
    "    name = county[\"Nome_Município\"]\n",
    "    uf = county[\"Nome_UF\"]\n",
    "    try:\n",
    "        geojson = county_polygon(county_code)\n",
    "#         print(county_code, name, uf)\n",
    "    except ValueError as e:\n",
    "        print(e)\n",
    "        geojson = \"\"\n",
    "\n",
    "    return dict(\n",
    "        county_code=county_code,\n",
    "        name=name,\n",
    "        geojson=geojson,\n",
    "        uf=initials[uf],\n",
    "        population=0,\n",
    "    )\n",
    "\n",
    "\n",
    "BASE_DIR = dirname(abspath('__file__'))\n",
    "path = join_path(BASE_DIR, \"utilities/DTB_2021_Municipio.csv\")\n",
    "rows = Pool().map(to_row, csv.DictReader(open(path)))\n",
    "save(rows, schema=\"Dengue_global\", table=\"Municipio\")\n"
   ]
  },
  {
   "cell_type": "code",
   "execution_count": null,
   "id": "civic-sunday",
   "metadata": {},
   "outputs": [],
   "source": []
  }
 ],
 "metadata": {
  "kernelspec": {
   "display_name": "Python 3",
   "language": "python",
   "name": "python3"
  },
  "language_info": {
   "codemirror_mode": {
    "name": "ipython",
    "version": 3
   },
   "file_extension": ".py",
   "mimetype": "text/x-python",
   "name": "python",
   "nbconvert_exporter": "python",
   "pygments_lexer": "ipython3",
   "version": "3.9.1"
  }
 },
 "nbformat": 4,
 "nbformat_minor": 5
}
