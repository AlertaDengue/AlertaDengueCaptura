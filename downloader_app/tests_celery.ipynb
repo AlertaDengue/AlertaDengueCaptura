{
 "cells": [
  {
   "cell_type": "code",
   "execution_count": 1,
   "metadata": {},
   "outputs": [],
   "source": [
    "import random\n",
    "from tasks import download\n",
    "from tiff_downloader import download_tiffs"
   ]
  },
  {
   "cell_type": "code",
   "execution_count": 2,
   "metadata": {},
   "outputs": [
    {
     "data": {
      "text/plain": [
       "<AsyncResult: 629df974-0c43-42e0-8885-58dcfe88affe>"
      ]
     },
     "execution_count": 2,
     "metadata": {},
     "output_type": "execute_result"
    }
   ],
   "source": [
    "source = 'LandDAAC-v5-night'\n",
    "date1 = ['2016', '01', '01'] \n",
    "date2 = ['2016', '01', '31']\n",
    "point1 = (-44.01104, -23.1343)\n",
    "point2 = (-42.58418, -22.49167)\n",
    "path = \"/home/felipe/downloadedFiles\"\n",
    "options = {'regrid':[3, 'cubic'], 'plot':False, 'keep_original':False}\n",
    "    \n",
    "download.delay(source, date1, date2, point1, point2, path, options)\n",
    "#download_tiffs(source, date1, date2, point1, point2, path, options)"
   ]
  },
  {
   "cell_type": "code",
   "execution_count": 3,
   "metadata": {},
   "outputs": [],
   "source": [
    "source = 'LandDAAC-v5-night'\n",
    "dates = [\n",
    "        [['2016', '03', '01'], ['2016', '03', '31']],\n",
    "        [['2016', '04', '01'], ['2016', '04', '30']],\n",
    "        [['2016', '05', '01'], ['2016', '05', '31']],\n",
    "        [['2016', '06', '01'], ['2016', '06', '30']], \n",
    "        [['2016', '07', '01'], ['2016', '07', '31']],\n",
    "        [['2016', '08', '01'], ['2016', '08', '31']],\n",
    "        [['2016', '09', '01'], ['2016', '09', '30']],\n",
    "        [['2016', '10', '01'], ['2016', '10', '31']],\n",
    "        [['2016', '11', '01'], ['2016', '11', '30']],\n",
    "        [['2016', '12', '01'], ['2016', '12', '31']]\n",
    "        ]\n",
    "point1 = (-44.01104, -23.1343)\n",
    "point2 = (-42.58418, -22.49167)\n",
    "path = \"/home/felipe/downloadedFiles\"\n",
    "options = {'regrid':[3, 'cubic'], 'plot':False, 'keep_original':False}\n",
    "    \n",
    "for date in dates:\n",
    "    date1 = date[0]\n",
    "    date2 = date[1]\n",
    "    download.delay(source, date1, date2, point1, point2, path, options)"
   ]
  }
 ],
 "metadata": {
  "kernelspec": {
   "display_name": "Python 3",
   "language": "python",
   "name": "python3"
  },
  "language_info": {
   "codemirror_mode": {
    "name": "ipython",
    "version": 3
   },
   "file_extension": ".py",
   "mimetype": "text/x-python",
   "name": "python",
   "nbconvert_exporter": "python",
   "pygments_lexer": "ipython3",
   "version": "3.7.3"
  }
 },
 "nbformat": 4,
 "nbformat_minor": 2
}
